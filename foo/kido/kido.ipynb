{
 "cells": [
  {
   "cell_type": "code",
   "execution_count": 1,
   "metadata": {},
   "outputs": [
    {
     "ename": "ModuleNotFoundError",
     "evalue": "No module named 'scipy'",
     "output_type": "error",
     "traceback": [
      "\u001b[1;31m---------------------------------------------------------------------------\u001b[0m",
      "\u001b[1;31mModuleNotFoundError\u001b[0m                       Traceback (most recent call last)",
      "Cell \u001b[1;32mIn[1], line 2\u001b[0m\n\u001b[0;32m      1\u001b[0m \u001b[38;5;28;01mimport\u001b[39;00m \u001b[38;5;21;01mnumpy\u001b[39;00m \u001b[38;5;28;01mas\u001b[39;00m \u001b[38;5;21;01mnp\u001b[39;00m\n\u001b[1;32m----> 2\u001b[0m \u001b[38;5;28;01mimport\u001b[39;00m \u001b[38;5;21;01mscipy\u001b[39;00m\u001b[38;5;21;01m.\u001b[39;00m\u001b[38;5;21;01mstats\u001b[39;00m \u001b[38;5;28;01mas\u001b[39;00m \u001b[38;5;21;01msstats\u001b[39;00m\n\u001b[0;32m      3\u001b[0m \u001b[38;5;28;01mimport\u001b[39;00m \u001b[38;5;21;01mpandas\u001b[39;00m \u001b[38;5;28;01mas\u001b[39;00m \u001b[38;5;21;01mpd\u001b[39;00m\n\u001b[0;32m      4\u001b[0m \u001b[38;5;28;01mfrom\u001b[39;00m \u001b[38;5;21;01mmatplotlib\u001b[39;00m \u001b[38;5;28;01mimport\u001b[39;00m pyplot \u001b[38;5;28;01mas\u001b[39;00m plt\n",
      "\u001b[1;31mModuleNotFoundError\u001b[0m: No module named 'scipy'"
     ]
    }
   ],
   "source": [
    "import numpy as np\n",
    "import scipy.stats as sstats\n",
    "import pandas as pd\n",
    "from matplotlib import pyplot as plt\n",
    "import matplotlib.cm as cm\n",
    "import seaborn as sns\n",
    "import cv2\n",
    "\n",
    "%matplotlib inline"
   ]
  },
  {
   "cell_type": "code",
   "execution_count": null,
   "metadata": {},
   "outputs": [],
   "source": [
    "def print_stat(fname):\n",
    "\n",
    "    img_name = fname\n",
    "    img = cv2.imread(fname,1)\n",
    "    # Grayscale\n",
    "    img = cv2.cvtColor(img, cv2.COLOR_RGB2GRAY)\n",
    "    # 一次元配列化\n",
    "    img = np.array(img).flatten()\n",
    "    # img = img[img!=255]\n",
    "\n",
    "    mean = img.mean()             # 平均値\n",
    "    std = np.std(img)             # 標準偏差\n",
    "    median = np.median(img)       # 中央値\n",
    "    mode = sstats.mode(img)[0][0] # 最頻値\n",
    "\n",
    "    print(\"---\", img_name)\n",
    "    print(\"mean    : \", mean)\n",
    "    print(\"stddev  : \", std)\n",
    "    print(\"median  : \", median)\n",
    "    print(\"mode    : \", mode)"
   ]
  },
  {
   "cell_type": "code",
   "execution_count": null,
   "metadata": {},
   "outputs": [],
   "source": [
    "def rgb_hist(fname):\n",
    "    sns.set_style(style='ticks')\n",
    "    fig = plt.figure(figsize=[15,4])\n",
    "    ax1 = fig.add_subplot(1,2,1)\n",
    "    sns.set_style(style='whitegrid')\n",
    "    ax2 = fig.add_subplot(1,2,2)\n",
    "    \n",
    "    ax1.imshow(fname)\n",
    "\n",
    "    color=['r','g','b']\n",
    "\n",
    "    for (i,col) in enumerate(color): # 各チャンネルのhist\n",
    "        # cv2.calcHist([img], [channel], mask_img, [binsize], ranges)\n",
    "        hist = cv2.calcHist([fname], [i], None, [256], [0,256])\n",
    "        # グラフの形が偏りすぎるので √ をとってみる\n",
    "        hist = np.sqrt(hist)\n",
    "        ax2.plot(hist,color=col)\n",
    "        ax2.set_xlim([0,256])\n",
    "\n",
    "    plt.show()"
   ]
  },
  {
   "cell_type": "code",
   "execution_count": null,
   "metadata": {},
   "outputs": [],
   "source": [
    "fname = input(\"input the image path to analyze\")\n"
   ]
  }
 ],
 "metadata": {
  "kernelspec": {
   "display_name": ".research",
   "language": "python",
   "name": "python3"
  },
  "language_info": {
   "codemirror_mode": {
    "name": "ipython",
    "version": 3
   },
   "file_extension": ".py",
   "mimetype": "text/x-python",
   "name": "python",
   "nbconvert_exporter": "python",
   "pygments_lexer": "ipython3",
   "version": "3.11.9"
  }
 },
 "nbformat": 4,
 "nbformat_minor": 2
}
