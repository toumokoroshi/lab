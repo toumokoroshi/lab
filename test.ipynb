{
 "cells": [
  {
   "cell_type": "code",
   "execution_count": 2,
   "metadata": {},
   "outputs": [],
   "source": [
    "import numpy as np\n",
    "import matplotlib.pyplot as plt\n"
   ]
  },
  {
   "cell_type": "code",
   "execution_count": 21,
   "metadata": {},
   "outputs": [
    {
     "name": "stdout",
     "output_type": "stream",
     "text": [
      "故障確率: 0.00119\n"
     ]
    }
   ],
   "source": [
    "X1_mu,X1_sigma = 23.5, 1.1\n",
    "X2_mu,X2_sigma = 4.0, 0.2\n",
    "X3_mu,X3_sigma = 300.0, 3.3\n",
    "X4_mu,X4_sigma = 238.0, 22.7\n",
    "X5_mu,X5_sigma = 0.0, 45.0\n",
    "\n",
    "SAMPLE_NUM = 100000\n",
    "\n",
    "x1 = np.random.normal(X1_mu, X1_sigma, SAMPLE_NUM)\n",
    "x2 = np.random.normal(X2_mu, X2_sigma, SAMPLE_NUM)\n",
    "x3 = np.random.normal(X3_mu, X3_sigma, SAMPLE_NUM)\n",
    "x4 = np.random.normal(X3_mu, X4_sigma, SAMPLE_NUM)\n",
    "x5 = np.random.normal(X5_mu, X5_sigma, SAMPLE_NUM)\n",
    "\n",
    "y1_samples = 0.4*x1*x3/x2\n",
    "y2_samples = np.where(x4 < 500, -0.9 * x4 + 1200 + x5, 750 + x5)\n",
    "\n",
    "g1_samples = y2_samples - y1_samples\n",
    "\n",
    "failure_prob = np.mean(g1_samples < 0)\n",
    "print(f\"故障確率: {failure_prob}\")\n",
    "\n",
    "\n",
    "\n",
    "\n"
   ]
  },
  {
   "cell_type": "code",
   "execution_count": 22,
   "metadata": {},
   "outputs": [
    {
     "data": {
      "image/png": "[encoded data removed]",
      "text/plain": [
       "<Figure size 432x288 with 1 Axes>"
      ]
     },
     "metadata": {
      "needs_background": "light"
     },
     "output_type": "display_data"
    }
   ],
   "source": [
    "# ヒストグラムの描画\n",
    "plt.hist(g1_samples, bins=50, alpha=0.7, label='G1 samples')\n",
    "plt.axvline(x=0, color='r', linestyle='--', label='Failure Threshold')\n",
    "plt.xlabel('G1 Value')\n",
    "plt.ylabel('Frequency')\n",
    "plt.title('Histogram of G1 Samples')\n",
    "plt.legend()\n",
    "plt.show()"
   ]
  },
  {
   "cell_type": "code",
   "execution_count": 73,
   "metadata": {},
   "outputs": [
    {
     "data": {
      "image/png": "[encoded data removed]",
      "text/plain": [
       "<Figure size 432x288 with 1 Axes>"
      ]
     },
     "metadata": {
      "needs_background": "light"
     },
     "output_type": "display_data"
    }
   ],
   "source": [
    "a = list(range(1,10))\n",
    "for i in range(7):\n",
    "    for j in range(9):\n",
    "        a.append(a[j]*10**(i+1))\n",
    "sample_sizes = np.asarray(a)\n",
    "failure_probs = []\n",
    "\n",
    "for size in sample_sizes:\n",
    "    X1_samples = np.random.normal(X1_mu, X1_sigma, size)\n",
    "    X2_samples = np.random.normal(X2_mu, X2_sigma, size)\n",
    "    X3_samples = np.random.normal(X3_mu, X3_sigma, size)\n",
    "    X4_samples = np.random.normal(X4_mu, X4_sigma, size)\n",
    "    X5_samples = np.random.normal(X5_mu, X5_sigma, size)\n",
    "    \n",
    "    Y1_samples = 0.4 * X1_samples * X3_samples / X2_samples\n",
    "    Y2_samples = np.where(X4_samples < 500, -0.9 * X4_samples + 1200 + X5_samples, 750 + X5_samples)\n",
    "    G1_samples = Y2_samples - Y1_samples\n",
    "    \n",
    "    failure_prob = np.mean(G1_samples < 0)\n",
    "    failure_probs.append(failure_prob)\n",
    "\n",
    "# 故障確率のプロット\n",
    "plt.plot(sample_sizes, failure_probs, marker='.', markersize=5, ls='none')\n",
    "plt.xlabel('Number of Samples')\n",
    "plt.ylabel('Failure Probability')\n",
    "plt.title('Effect of the Number of Samples on Failure Probability')\n",
    "# plt.xscale('log')\n",
    "plt.grid(True)\n",
    "plt.show()\n"
   ]
  },
  {
   "cell_type": "code",
   "execution_count": 72,
   "metadata": {},
   "outputs": [
    {
     "data": {
      "text/plain": [
       "[1,\n",
       " 2,\n",
       " 3,\n",
       " 4,\n",
       " 5,\n",
       " 6,\n",
       " 7,\n",
       " 8,\n",
       " 9,\n",
       " 10,\n",
       " 20,\n",
       " 30,\n",
       " 40,\n",
       " 50,\n",
       " 60,\n",
       " 70,\n",
       " 80,\n",
       " 90,\n",
       " 100,\n",
       " 200,\n",
       " 300,\n",
       " 400,\n",
       " 500,\n",
       " 600,\n",
       " 700,\n",
       " 800,\n",
       " 900,\n",
       " 1000,\n",
       " 2000,\n",
       " 3000,\n",
       " 4000,\n",
       " 5000,\n",
       " 6000,\n",
       " 7000,\n",
       " 8000,\n",
       " 9000]"
      ]
     },
     "execution_count": 72,
     "metadata": {},
     "output_type": "execute_result"
    }
   ],
   "source": [
    "a = list(range(1,10))\n",
    "for i in range(3):\n",
    "    for j in range(9):\n",
    "        a.append(a[j]*10**(i+1))\n",
    "a"
   ]
  },
  {
   "cell_type": "code",
   "execution_count": null,
   "metadata": {},
   "outputs": [],
   "source": []
  }
 ],
 "metadata": {
  "kernelspec": {
   "display_name": "Python 3",
   "language": "python",
   "name": "python3"
  },
  "language_info": {
   "codemirror_mode": {
    "name": "ipython",
    "version": 3
   },
   "file_extension": ".py",
   "mimetype": "text/x-python",
   "name": "python",
   "nbconvert_exporter": "python",
   "pygments_lexer": "ipython3",
   "version": "3.9.4"
  }
 },
 "nbformat": 4,
 "nbformat_minor": 2
}
